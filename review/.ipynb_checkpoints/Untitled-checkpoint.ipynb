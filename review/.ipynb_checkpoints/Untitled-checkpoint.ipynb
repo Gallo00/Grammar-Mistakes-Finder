{
 "cells": [
  {
   "cell_type": "markdown",
   "id": "1e32b65c",
   "metadata": {
    "slideshow": {
     "slide_type": "slide"
    }
   },
   "source": [
    "# Stream Processing per l'identificazione di Errori Grammaticali in varie lingue\n",
    "### Progetto per il corso universitario Technologies for Advanced Programming AA 2021/22\n",
    "### Samuele Maria Gallina 1000001478"
   ]
  },
  {
   "cell_type": "markdown",
   "id": "c37dbe09",
   "metadata": {
    "slideshow": {
     "slide_type": "slide"
    }
   },
   "source": [
    "Il progetto si pone l'obiettivo di creare una pipeline per il processing di dati in streaming. <br>\n",
    "Quello che sarà fatto, detto brevemente, sarà estrarre tweets casuali di qualsiasi lingua per poi successivamente analizzare i testi tramite un tool in Python che si occuperà di calcolare il numero di errori grammaticali all'interno del testo.\n",
    "Alla fin fine avremmo accesso a una dashboard in Kibana per la data visualization"
   ]
  }
 ],
 "metadata": {
  "celltoolbar": "Slideshow",
  "kernelspec": {
   "display_name": "Python 3",
   "language": "python",
   "name": "python3"
  },
  "language_info": {
   "codemirror_mode": {
    "name": "ipython",
    "version": 3
   },
   "file_extension": ".py",
   "mimetype": "text/x-python",
   "name": "python",
   "nbconvert_exporter": "python",
   "pygments_lexer": "ipython3",
   "version": "3.8.8"
  }
 },
 "nbformat": 4,
 "nbformat_minor": 5
}
